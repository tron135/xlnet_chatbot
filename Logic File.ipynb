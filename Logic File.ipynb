{
 "cells": [
  {
   "cell_type": "code",
   "execution_count": 36,
   "id": "5d352ee5",
   "metadata": {},
   "outputs": [],
   "source": [
    "import json\n",
    "from transformers import XLNetTokenizer, XLNetForQuestionAnsweringSimple\n",
    "from torch.nn import functional as F\n",
    "import torch\n",
    "import time"
   ]
  },
  {
   "cell_type": "code",
   "execution_count": 2,
   "id": "a277c76a",
   "metadata": {},
   "outputs": [],
   "source": [
    "x = open(\"dataset.json\")"
   ]
  },
  {
   "cell_type": "code",
   "execution_count": 3,
   "id": "35094ba5",
   "metadata": {},
   "outputs": [],
   "source": [
    "# import the demo JSON dataset\n",
    "data = json.load(x)['data']"
   ]
  },
  {
   "cell_type": "code",
   "execution_count": 5,
   "id": "c8bc88a5",
   "metadata": {},
   "outputs": [],
   "source": [
    "def get_subjects():\n",
    "    for i in range(len(data)):\n",
    "        subject = data[i]['subject_name']\n",
    "        print(f'{i+1}. {subject}')"
   ]
  },
  {
   "cell_type": "code",
   "execution_count": 6,
   "id": "65002a8f",
   "metadata": {},
   "outputs": [],
   "source": [
    "def print_topics(data):\n",
    "    for i in range(len(data)):\n",
    "        topic = data[i]['topic_name']\n",
    "        print(f'\\n{i+1}. {topic}')"
   ]
  },
  {
   "cell_type": "code",
   "execution_count": 43,
   "id": "548a0251",
   "metadata": {},
   "outputs": [],
   "source": [
    "def get_description(top_num, data):\n",
    "    global continue_param\n",
    "    global context\n",
    "    if type(data['description']) == list:\n",
    "        print_topics(data['description'])\n",
    "        topic_num = int(input('\\n\\n Which topic you want help with ? \\n\\n'))\n",
    "        get_description(topic_num, data['description'][topic_num - 1])\n",
    "    else:\n",
    "        continue_param = False\n",
    "        context = data['description']\n",
    "        topic_name = data['topic_name']\n",
    "        print(f'{topic_name}:')\n",
    "        print(context)"
   ]
  },
  {
   "cell_type": "code",
   "execution_count": 14,
   "id": "e677fd09",
   "metadata": {},
   "outputs": [],
   "source": [
    "# Initializing tokenizer and model from fine-tuned model folder\n",
    "tokenizer = XLNetTokenizer.from_pretrained(\"fine-tuned-model\")\n",
    "model = XLNetForQuestionAnsweringSimple.from_pretrained(\"fine-tuned-model\", return_dict = True)"
   ]
  },
  {
   "cell_type": "code",
   "execution_count": 17,
   "id": "8d5049fe",
   "metadata": {},
   "outputs": [],
   "source": [
    "# getting the answer using the fine-tuned model\n",
    "def get_answer(que, text):\n",
    "    inputs = tokenizer.encode_plus(que, text, return_tensors='pt')\n",
    "    output = model(**inputs)\n",
    "    start_max = torch.argmax(F.softmax(output.start_logits, dim = -1))\n",
    "    end_max = torch.argmax(F.softmax(output.end_logits, dim=-1)) + 1 \n",
    "    \n",
    "    answer = tokenizer.decode(inputs[\"input_ids\"][0][start_max : end_max])\n",
    "    print(answer)"
   ]
  },
  {
   "cell_type": "code",
   "execution_count": 48,
   "id": "4d2db4f5",
   "metadata": {
    "scrolled": true
   },
   "outputs": [
    {
     "name": "stdout",
     "output_type": "stream",
     "text": [
      "The list of subjects available: \n",
      "\n",
      "1. Geography\n",
      "2. History\n",
      "\n",
      "\n",
      " In which subject can I help you today !? \n",
      "\n",
      "1\n",
      "The list of topics available in Geography\n",
      "\n",
      "1. Introduction\n",
      "\n",
      "2. Natural Hazards\n",
      "\n",
      "\n",
      " Which topic you want help with ? \n",
      "\n",
      "2\n",
      "\n",
      "1. Introduction\n",
      "\n",
      "2. Types of Natural Hazards\n",
      "\n",
      "\n",
      " Which topic you want help with ? \n",
      "\n",
      "2\n",
      "\n",
      "1. Techtonic Hazards\n",
      "\n",
      "2. Atmospheric Hazards\n",
      "\n",
      "3. Biological Hazards\n",
      "\n",
      "4. Geomorphological hazards\n",
      "\n",
      "\n",
      " Which topic you want help with ? \n",
      "\n",
      "3\n",
      "Biological Hazards:\n",
      "Biological health hazards include bacteria, viruses, parasites and moulds or fungi. They can pose a threat to human health when they are inhaled, eaten or come in contact with skin. They can cause illness such as food poisoning, tetanus, respiratory infections or parasite infection.\n",
      "\n",
      "\n",
      " What is your question ? \n",
      "\n",
      "what can cause food poisoning?\n",
      "\n"
     ]
    }
   ],
   "source": [
    "continue_param = True\n",
    "context = \"\"\n",
    "\n",
    "print('The list of subjects available: \\n')\n",
    "get_subjects()\n",
    "time.sleep(1)\n",
    "\n",
    "subject_num = int(input('\\n\\n In which subject can I help you today !? \\n\\n'))\n",
    "\n",
    "subject_name = data[subject_num-1]['subject_name']\n",
    "print(f'The list of topics available in {subject_name}')\n",
    "print_topics(data[subject_num - 1]['topics'])\n",
    "time.sleep(1)\n",
    "\n",
    "topic_num = int(input('\\n\\n Which topic you want help with ? \\n\\n'))\n",
    "time.sleep(1)\n",
    "\n",
    "while continue_param == True:\n",
    "    get_description(topic_num, data[subject_num - 1]['topics'][topic_num - 1])\n",
    "\n",
    "question = str(input('\\n\\n What is your question ? \\n\\n'))\n",
    "get_answer(question, context)"
   ]
  },
  {
   "cell_type": "code",
   "execution_count": null,
   "id": "898c9ab2",
   "metadata": {},
   "outputs": [],
   "source": []
  },
  {
   "cell_type": "code",
   "execution_count": null,
   "id": "fe022d81",
   "metadata": {},
   "outputs": [],
   "source": []
  }
 ],
 "metadata": {
  "kernelspec": {
   "display_name": "Python 3 (ipykernel)",
   "language": "python",
   "name": "python3"
  },
  "language_info": {
   "codemirror_mode": {
    "name": "ipython",
    "version": 3
   },
   "file_extension": ".py",
   "mimetype": "text/x-python",
   "name": "python",
   "nbconvert_exporter": "python",
   "pygments_lexer": "ipython3",
   "version": "3.9.12"
  }
 },
 "nbformat": 4,
 "nbformat_minor": 5
}
