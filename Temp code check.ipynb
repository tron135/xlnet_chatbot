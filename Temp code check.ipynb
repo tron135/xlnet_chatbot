{
 "cells": [
  {
   "cell_type": "code",
   "execution_count": 96,
   "id": "508a1e61",
   "metadata": {},
   "outputs": [],
   "source": [
    "from transformers import XLNetForQuestionAnsweringSimple, XLNetTokenizer\n",
    "import torch\n",
    "from torch.nn import functional as F"
   ]
  },
  {
   "cell_type": "code",
   "execution_count": 97,
   "id": "45dc6193",
   "metadata": {},
   "outputs": [],
   "source": [
    "context = '''Conclusion : Our study firstly demonstrated the regional disparity of COVID - 19 in Chongqing municipality and further thoroughly compared the differences between severe and \n",
    "non - severe patients. The 28 - day mortality of COVID - 19 patients from 3 designed hospitals of Chongqing is 1. 5 %, lower than that of Hubei province and mainland China including \n",
    "Hubei province. However, the 28 - mortality of severe patients was relatively high, with much higher when complications occurred. Notably, the 28 - mortality of critically severe patients \n",
    "complicated with severe ARDS is considerably as high as 44. 4 %. Therefore, early diagnosis and intensive care of critically severe COVID - 19 cases, especially those combined with ARDS,\n",
    "will be considerably essential to reduce mortality.'''\n",
    "\n",
    "question = \"What is the mortality for ARDS?\""
   ]
  },
  {
   "cell_type": "code",
   "execution_count": 98,
   "id": "a231da68",
   "metadata": {},
   "outputs": [],
   "source": [
    "# tokenizer = XLNetTokenizerFast.from_pretrained('jkgrad/xlnet-base-squadv2')\n",
    "tokenizer = XLNetTokenizer.from_pretrained(\"8-epoch model\")"
   ]
  },
  {
   "cell_type": "code",
   "execution_count": 99,
   "id": "99783723",
   "metadata": {},
   "outputs": [],
   "source": [
    "inputs = tokenizer.encode_plus(question, context, return_tensors='pt')\n",
    "# inputs = tokenizer.encode_plus(question, text, return_tensors='pt')"
   ]
  },
  {
   "cell_type": "code",
   "execution_count": 101,
   "id": "c5986d93",
   "metadata": {},
   "outputs": [],
   "source": [
    "input_ids = inputs['input_ids'][0]"
   ]
  },
  {
   "cell_type": "code",
   "execution_count": 103,
   "id": "54edd67e",
   "metadata": {},
   "outputs": [],
   "source": [
    "# model = XLNetForQuestionAnsweringSimple.from_pretrained('jkgrad/xlnet-base-squadv2', return_dict = True)\n",
    "model = XLNetForQuestionAnsweringSimple.from_pretrained(\"8-epoch model\",return_dict = True)"
   ]
  },
  {
   "cell_type": "code",
   "execution_count": 110,
   "id": "a3183d7d",
   "metadata": {
    "scrolled": true
   },
   "outputs": [],
   "source": [
    "output = model(**inputs)"
   ]
  },
  {
   "cell_type": "code",
   "execution_count": 111,
   "id": "2e3be0c4",
   "metadata": {},
   "outputs": [],
   "source": [
    "start_max = torch.argmax(F.softmax(output.start_logits, dim = -1))\n",
    "# start_max = torch.argmax(F.softmax(output.start_logits, dim = -1))\n",
    "# end_max = torch.argmax(F.softmax(output.end_logits, dim=-1)) + 1 \n",
    "end_max = torch.argmax(F.softmax(output.end_logits, dim=-1)) + 1"
   ]
  },
  {
   "cell_type": "code",
   "execution_count": 141,
   "id": "416e6e04",
   "metadata": {},
   "outputs": [
    {
     "data": {
      "text/plain": [
       "tensor(0)"
      ]
     },
     "execution_count": 141,
     "metadata": {},
     "output_type": "execute_result"
    }
   ],
   "source": [
    "start_max"
   ]
  },
  {
   "cell_type": "code",
   "execution_count": 142,
   "id": "7a79c85c",
   "metadata": {},
   "outputs": [
    {
     "data": {
      "text/plain": [
       "tensor(7)"
      ]
     },
     "execution_count": 142,
     "metadata": {},
     "output_type": "execute_result"
    }
   ],
   "source": [
    "end_max"
   ]
  },
  {
   "cell_type": "code",
   "execution_count": 139,
   "id": "e19f5024",
   "metadata": {},
   "outputs": [
    {
     "data": {
      "text/plain": [
       "''"
      ]
     },
     "execution_count": 139,
     "metadata": {},
     "output_type": "execute_result"
    }
   ],
   "source": [
    "tokenizer.decode(input_ids[start_max : end_max])"
   ]
  },
  {
   "cell_type": "code",
   "execution_count": null,
   "id": "8328b69e",
   "metadata": {},
   "outputs": [],
   "source": []
  },
  {
   "cell_type": "code",
   "execution_count": null,
   "id": "bf183aed",
   "metadata": {},
   "outputs": [],
   "source": []
  },
  {
   "cell_type": "code",
   "execution_count": 143,
   "id": "55f45d1f",
   "metadata": {},
   "outputs": [
    {
     "name": "stdout",
     "output_type": "stream",
     "text": [
      "world?<sep> There are 7\n"
     ]
    }
   ],
   "source": [
    "from transformers import XLNetTokenizer \n",
    "from transformers import XLNetForQuestionAnsweringSimple\n",
    "from torch.nn import functional as F\n",
    "import torch\n",
    "tokenizer = XLNetTokenizer.from_pretrained(\"8-epoch model\")\n",
    "model = XLNetForQuestionAnsweringSimple.from_pretrained(\"8-epoch model\",return_dict = True)\n",
    "question = \"How many continents are there in the world?\"\n",
    "text = \"There are 7 continents in the world.\"\n",
    "inputs = tokenizer.encode_plus(question, text, return_tensors='pt')\n",
    "output = model(**inputs)\n",
    "start_max = torch.argmax(F.softmax(output.start_logits, dim = -1))\n",
    "end_max = torch.argmax(F.softmax(output.end_logits, dim=-1)) + 1 \n",
    "## add one because of python list indexing\n",
    "answer = tokenizer.decode(inputs[\"input_ids\"][0][start_max : end_max])\n",
    "print(answer)"
   ]
  },
  {
   "cell_type": "code",
   "execution_count": null,
   "id": "aeadb9a7",
   "metadata": {},
   "outputs": [],
   "source": []
  },
  {
   "cell_type": "code",
   "execution_count": null,
   "id": "2ae2f1b1",
   "metadata": {},
   "outputs": [],
   "source": []
  },
  {
   "cell_type": "code",
   "execution_count": null,
   "id": "0f4fd6ce",
   "metadata": {},
   "outputs": [],
   "source": []
  }
 ],
 "metadata": {
  "kernelspec": {
   "display_name": "Python 3 (ipykernel)",
   "language": "python",
   "name": "python3"
  },
  "language_info": {
   "codemirror_mode": {
    "name": "ipython",
    "version": 3
   },
   "file_extension": ".py",
   "mimetype": "text/x-python",
   "name": "python",
   "nbconvert_exporter": "python",
   "pygments_lexer": "ipython3",
   "version": "3.9.12"
  }
 },
 "nbformat": 4,
 "nbformat_minor": 5
}
